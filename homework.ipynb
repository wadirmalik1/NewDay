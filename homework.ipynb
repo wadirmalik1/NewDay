{
 "cells": [
  {
   "cell_type": "code",
   "execution_count": null,
   "metadata": {},
   "outputs": [],
   "source": [
    "pip install pyspark"
   ]
  },
  {
   "cell_type": "code",
   "execution_count": null,
   "metadata": {},
   "outputs": [],
   "source": [
    "pip install findspark"
   ]
  },
  {
   "cell_type": "code",
   "execution_count": null,
   "metadata": {},
   "outputs": [],
   "source": [
    "# Import all dependencies\n",
    "\n",
    "import findspark\n",
    "import os\n",
    "from pyspark.sql import SparkSession\n",
    "from pyspark.sql.functions import avg, max, min, col, row_number\n",
    "from pyspark.sql.window import Window"
   ]
  },
  {
   "cell_type": "code",
   "execution_count": null,
   "metadata": {},
   "outputs": [],
   "source": [
    "findspark.init(os.environ[\"SPARK_HOME\"])"
   ]
  },
  {
   "cell_type": "code",
   "execution_count": null,
   "metadata": {},
   "outputs": [],
   "source": [
    "# Set up Spark Session\n",
    "spark = SparkSession.builder.getOrCreate()"
   ]
  },
  {
   "cell_type": "code",
   "execution_count": null,
   "metadata": {},
   "outputs": [],
   "source": [
    "# Read movies.dat into a Spark Dataframe\n",
    "\n",
    "file_path = \"/Users/wadirmalik/Downloads/ml-1m/movies.dat\"\n",
    "\n",
    "file_options = {\n",
    "    \"header\": False,\n",
    "    \"inferSchema\": True,  \n",
    "    \"delimiter\": \"::\" \n",
    "}\n",
    "\n",
    "movies_df = spark.read.options(**file_options).csv(file_path)\n",
    "\n",
    "movies_df = movies_df.withColumnRenamed(\"_c0\", \"MovieID\") \\\n",
    "            .withColumnRenamed(\"_c1\", \"Title\") \\\n",
    "            .withColumnRenamed(\"_c2\", \"Genres\")\n",
    "\n",
    "movies_df.show()"
   ]
  },
  {
   "cell_type": "code",
   "execution_count": null,
   "metadata": {},
   "outputs": [],
   "source": [
    "# Read ratings.dat into a Spark Dataframe\n",
    "\n",
    "file_path = \"/Users/wadirmalik/Downloads/ml-1m/ratings.dat\"\n",
    "\n",
    "file_options = {\n",
    "    \"header\": False,\n",
    "    \"inferSchema\": True,  \n",
    "    \"delimiter\": \"::\" \n",
    "}\n",
    "\n",
    "ratings_df = spark.read.options(**file_options).csv(file_path)\n",
    "\n",
    "ratings_df = ratings_df.withColumnRenamed(\"_c0\", \"UserID\") \\\n",
    "            .withColumnRenamed(\"_c1\", \"MovieID\") \\\n",
    "            .withColumnRenamed(\"_c2\", \"Rating\") \\\n",
    "            .withColumnRenamed(\"_c3\", \"Timestamp\")\n",
    "\n",
    "ratings_df.show()"
   ]
  },
  {
   "cell_type": "code",
   "execution_count": null,
   "metadata": {},
   "outputs": [],
   "source": [
    "# create a new dataframe containig max, min and avg rating of the movies\n",
    "\n",
    "movie_ratings_df = ratings_df.groupBy(\"MovieID\").agg(max(\"Rating\").alias(\"Max_Rating\"), \\\n",
    "                                                     min(\"Rating\").alias(\"Min_Rating\"), \\\n",
    "                                                     avg(\"Rating\").alias(\"Avg_Rating\"))\n",
    "movie_ratings_df.show()"
   ]
  },
  {
   "cell_type": "code",
   "execution_count": null,
   "metadata": {},
   "outputs": [],
   "source": [
    "# join the max, min and avg dataframe to the movies dataframe\n",
    "\n",
    "movies_with_ratings_df = movies_df.join(movie_ratings_df, \"movieId\", \"inner\")\n",
    "\n",
    "movies_with_ratings_df.show()"
   ]
  },
  {
   "cell_type": "code",
   "execution_count": null,
   "metadata": {},
   "outputs": [],
   "source": [
    "# create a new dataframe that shows the users top 3 rated movies\n",
    "\n",
    "window_spec = Window.partitionBy(\"UserId\").orderBy(col(\"Rating\"))\n",
    "top_movies_df = ratings_df.withColumn(\"Rank\", row_number().over(window_spec)).filter(col(\"Rank\") <= 3)\n",
    "top_movies_df.show()"
   ]
  },
  {
   "cell_type": "code",
   "execution_count": 86,
   "metadata": {},
   "outputs": [
    {
     "name": "stderr",
     "output_type": "stream",
     "text": [
      "                                                                                \r"
     ]
    }
   ],
   "source": [
    "# Write out original and new datafarmes in an efficient format of your choice (I chose CSV)\n",
    "\n",
    "movies_df.write.format(\"csv\").mode(\"overwrite\").save(\"movies.csv\")\n",
    "ratings_df.write.format(\"csv\").mode(\"overwrite\").save(\"ratings.csv\")\n",
    "movies_with_ratings_df.write.format(\"csv\").mode(\"overwrite\").save(\"movies_with_ratings.csv\")\n",
    "top_movies_df.write.format(\"csv\").mode(\"overwrite\").save(\"top_movies.csv\")"
   ]
  },
  {
   "cell_type": "code",
   "execution_count": null,
   "metadata": {},
   "outputs": [],
   "source": []
  }
 ],
 "metadata": {
  "kernelspec": {
   "display_name": "Python 3",
   "language": "python",
   "name": "python3"
  },
  "language_info": {
   "codemirror_mode": {
    "name": "ipython",
    "version": 3
   },
   "file_extension": ".py",
   "mimetype": "text/x-python",
   "name": "python",
   "nbconvert_exporter": "python",
   "pygments_lexer": "ipython3",
   "version": "3.11.3"
  },
  "orig_nbformat": 4
 },
 "nbformat": 4,
 "nbformat_minor": 2
}
